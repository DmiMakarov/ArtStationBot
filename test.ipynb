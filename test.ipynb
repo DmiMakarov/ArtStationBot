{
 "cells": [
  {
   "cell_type": "code",
   "execution_count": 1,
   "metadata": {},
   "outputs": [],
   "source": [
    "import requests\n",
    "import json"
   ]
  },
  {
   "cell_type": "code",
   "execution_count": null,
   "metadata": {},
   "outputs": [],
   "source": []
  },
  {
   "cell_type": "code",
   "execution_count": 6,
   "metadata": {},
   "outputs": [
    {
     "data": {
      "text/plain": [
       "dict_keys(['data', 'total_count'])"
      ]
     },
     "execution_count": 6,
     "metadata": {},
     "output_type": "execute_result"
    }
   ],
   "source": [
    "\n",
    "page=3\n",
    "\n",
    "url = 'https://www.artstation.com/projects.json?page={}&sorting=latest&dimension=3d'.format(page)\n",
    "\n",
    "responce = requests.get(url)\n",
    "\n",
    "data_json = json.loads(responce.content)\n",
    "\n",
    "data_json.keys()"
   ]
  },
  {
   "cell_type": "code",
   "execution_count": 4,
   "metadata": {},
   "outputs": [
    {
     "data": {
      "text/plain": [
       "{'id': 17659036,\n",
       " 'user_id': 28888,\n",
       " 'title': 'Banyan',\n",
       " 'description': \"This is a concept I was using as my 'testing grounds' to develop some of the effects and patterns for a new set of brushes pack for detailing in ZBrush. Everything was sculpted and detailed in ZBrush, the texture is just polypaint and rendered in Marmoset Toolbag 4. GRAB THE BRUSHES HERE: https://zbrushguides.store/en-au/products/bark-wood-brushes-pack\",\n",
       " 'created_at': '2024-02-15T02:28:44.130-06:00',\n",
       " 'updated_at': '2024-02-18T13:56:48.632-06:00',\n",
       " 'likes_count': 880,\n",
       " 'slug': 'banyan-5',\n",
       " 'published_at': '2024-02-15T02:29:24.064-06:00',\n",
       " 'adult_content': False,\n",
       " 'cover_asset_id': 72694263,\n",
       " 'admin_adult_content': False,\n",
       " 'views_count': 4399,\n",
       " 'tag_list': None,\n",
       " 'hash_id': '0496Dw',\n",
       " 'permalink': 'https://www.artstation.com/artwork/0496Dw',\n",
       " 'hide_as_adult': False,\n",
       " 'user': {'id': 28888,\n",
       "  'username': 'pablander',\n",
       "  'first_name': 'Pablo',\n",
       "  'last_name': 'Munoz Gomez',\n",
       "  'avatar_file_name': 'a88febadc082fd6293e98b8a6c203ee4.png',\n",
       "  'country': 'Australia',\n",
       "  'city': 'Melbourne',\n",
       "  'subdomain': 'pablander',\n",
       "  'headline': 'Concept artist, 3D sculptor and educator',\n",
       "  'pro_member': True,\n",
       "  'is_staff': False,\n",
       "  'is_plus_member': False,\n",
       "  'is_studio_account': False,\n",
       "  'is_school_account': False,\n",
       "  'medium_avatar_url': 'https://cdna.artstation.com/p/users/avatars/000/028/888/medium/a88febadc082fd6293e98b8a6c203ee4.jpg',\n",
       "  'large_avatar_url': 'https://cdna.artstation.com/p/users/avatars/000/028/888/large/a88febadc082fd6293e98b8a6c203ee4.jpg',\n",
       "  'full_name': 'Pablo Munoz Gomez',\n",
       "  'permalink': 'http://www.artstation.com/pablander',\n",
       "  'artstation_profile_url': 'https://www.artstation.com/pablander',\n",
       "  'location': 'Melbourne, Australia'},\n",
       " 'cover': {'id': 72694263,\n",
       "  'small_square_url': 'https://cdnb.artstation.com/p/assets/images/images/072/694/263/20240215021835/small_square/pablo-munoz-gomez-treeman-final-low.jpg?1707985115',\n",
       "  'micro_square_image_url': 'https://cdnb.artstation.com/p/assets/images/images/072/694/263/20240215021835/micro_square/pablo-munoz-gomez-treeman-final-low.jpg?1707985115',\n",
       "  'thumb_url': 'https://cdnb.artstation.com/p/assets/images/images/072/694/263/20240215021835/smaller_square/pablo-munoz-gomez-treeman-final-low.jpg?1707985115'},\n",
       " 'icons': {'image': True,\n",
       "  'video': False,\n",
       "  'video_clip': False,\n",
       "  'model3d': False,\n",
       "  'marmoset': False,\n",
       "  'pano': False},\n",
       " 'assets_count': 5}"
      ]
     },
     "execution_count": 4,
     "metadata": {},
     "output_type": "execute_result"
    }
   ],
   "source": [
    "data_json['data'][0]"
   ]
  },
  {
   "cell_type": "code",
   "execution_count": 63,
   "metadata": {},
   "outputs": [],
   "source": [
    "for idx, data in enumerate(data_json['data']):\n",
    "    if data['icons']['model3d'] == True:\n",
    "        print(idx)"
   ]
  },
  {
   "cell_type": "code",
   "execution_count": 62,
   "metadata": {},
   "outputs": [
    {
     "data": {
      "text/plain": [
       "dict_keys(['id', 'user_id', 'title', 'description', 'created_at', 'updated_at', 'likes_count', 'slug', 'published_at', 'adult_content', 'cover_asset_id', 'admin_adult_content', 'views_count', 'tag_list', 'hash_id', 'permalink', 'hide_as_adult', 'user', 'cover', 'icons', 'assets_count'])"
      ]
     },
     "execution_count": 62,
     "metadata": {},
     "output_type": "execute_result"
    }
   ],
   "source": [
    "data_json['data'][10].keys()"
   ]
  },
  {
   "cell_type": "code",
   "execution_count": 46,
   "metadata": {},
   "outputs": [
    {
     "data": {
      "text/plain": [
       "{'image': True,\n",
       " 'video': False,\n",
       " 'video_clip': False,\n",
       " 'model3d': False,\n",
       " 'marmoset': False,\n",
       " 'pano': False}"
      ]
     },
     "execution_count": 46,
     "metadata": {},
     "output_type": "execute_result"
    }
   ],
   "source": [
    "data['data'][00]['icons']"
   ]
  },
  {
   "cell_type": "code",
   "execution_count": 31,
   "metadata": {},
   "outputs": [],
   "source": [
    "responce_2 = requests.get(data_json['data'][0]['permalink'])"
   ]
  },
  {
   "cell_type": "code",
   "execution_count": null,
   "metadata": {},
   "outputs": [],
   "source": []
  },
  {
   "cell_type": "code",
   "execution_count": 32,
   "metadata": {},
   "outputs": [
    {
     "data": {
      "text/plain": [
       "b'<!DOCTYPE html><html lang=\"en-US\"><head><title>Just a moment...</title><meta http-equiv=\"Content-Type\" content=\"text/html; charset=UTF-8\"><meta http-equiv=\"X-UA-Compatible\" content=\"IE=Edge\"><meta name=\"robots\" content=\"noindex,nofollow\"><meta name=\"viewport\" content=\"width=device-width,initial-scale=1\"><style>*{box-sizing:border-box;margin:0;padding:0}html{line-height:1.15;-webkit-text-size-adjust:100%;color:#313131}button,html{font-family:system-ui,-apple-system,BlinkMacSystemFont,Segoe UI,Roboto,Helvetica Neue,Arial,Noto Sans,sans-serif,Apple Color Emoji,Segoe UI Emoji,Segoe UI Symbol,Noto Color Emoji}@media (prefers-color-scheme:dark){body{background-color:#222;color:#d9d9d9}body a{color:#fff}body a:hover{color:#ee730a;text-decoration:underline}body .lds-ring div{border-color:#999 transparent transparent}body .font-red{color:#b20f03}body .big-button,body .pow-button{background-color:#4693ff;color:#1d1d1d}body #challenge-success-text{background-image:url(data:image/svg+xml;base64,PHN2ZyB4bWxucz0iaHR0cDovL3d3dy53My5vcmcvMjAwMC9zdmciIHdpZHRoPSIzMiIgaGVpZ2h0PSIzMiIgZmlsbD0ibm9uZSIgdmlld0JveD0iMCAwIDI2IDI2Ij48cGF0aCBmaWxsPSIjZDlkOWQ5IiBkPSJNMTMgMGExMyAxMyAwIDEgMCAwIDI2IDEzIDEzIDAgMCAwIDAtMjZtMCAyNGExMSAxMSAwIDEgMSAwLTIyIDExIDExIDAgMCAxIDAgMjIiLz48cGF0aCBmaWxsPSIjZDlkOWQ5IiBkPSJtMTAuOTU1IDE2LjA1NS0zLjk1LTQuMTI1LTEuNDQ1IDEuMzg1IDUuMzcgNS42MSA5LjQ5NS05LjYtMS40Mi0xLjQwNXoiLz48L3N2Zz4=)}body #challenge-error-text{background-image:url(data:image/svg+xml;base64,PHN2ZyB4bWxucz0iaHR0cDovL3d3dy53My5vcmcvMjAwMC9zdmciIHdpZHRoPSIzMiIgaGVpZ2h0PSIzMiIgZmlsbD0ibm9uZSI+PHBhdGggZmlsbD0iI0IyMEYwMyIgZD0iTTE2IDNhMTMgMTMgMCAxIDAgMTMgMTNBMTMuMDE1IDEzLjAxNSAwIDAgMCAxNiAzbTAgMjRhMTEgMTEgMCAxIDEgMTEtMTEgMTEuMDEgMTEuMDEgMCAwIDEtMTEgMTEiLz48cGF0aCBmaWxsPSIjQjIwRjAzIiBkPSJNMTcuMDM4IDE4LjYxNUgxNC44N0wxNC41NjMgOS41aDIuNzgzem0tMS4wODQgMS40MjdxLjY2IDAgMS4wNTcuMzg4LjQwNy4zODkuNDA3Ljk5NCAwIC41OTYtLjQwNy45ODQtLjM5Ny4zOS0xLjA1Ny4zODktLjY1IDAtMS4wNTYtLjM4OS0uMzk4LS4zODktLjM5OC0uOTg0IDAtLjU5Ny4zOTgtLjk4NS40MDYtLjM5NyAxLjA1Ni0uMzk3Ii8+PC9zdmc+)}}body{display:flex;flex-direction:column;min-height:100vh}body.no-js .loading-spinner{visibility:hidden}body.no-js .challenge-running{display:none}body.dark{background-color:#222;color:#d9d9d9}body.dark a{color:#fff}body.dark a:hover{color:#ee730a;text-decoration:underline}body.dark .lds-ring div{border-color:#999 transparent transparent}body.dark .font-red{color:#b20f03}body.dark .big-button,body.dark .pow-button{background-color:#4693ff;color:#1d1d1d}body.dark #challenge-success-text{background-image:url(data:image/svg+xml;base64,PHN2ZyB4bWxucz0iaHR0cDovL3d3dy53My5vcmcvMjAwMC9zdmciIHdpZHRoPSIzMiIgaGVpZ2h0PSIzMiIgZmlsbD0ibm9uZSIgdmlld0JveD0iMCAwIDI2IDI2Ij48cGF0aCBmaWxsPSIjZDlkOWQ5IiBkPSJNMTMgMGExMyAxMyAwIDEgMCAwIDI2IDEzIDEzIDAgMCAwIDAtMjZtMCAyNGExMSAxMSAwIDEgMSAwLTIyIDExIDExIDAgMCAxIDAgMjIiLz48cGF0aCBmaWxsPSIjZDlkOWQ5IiBkPSJtMTAuOTU1IDE2LjA1NS0zLjk1LTQuMTI1LTEuNDQ1IDEuMzg1IDUuMzcgNS42MSA5LjQ5NS05LjYtMS40Mi0xLjQwNXoiLz48L3N2Zz4=)}body.dark #challenge-error-text{background-image:url(data:image/svg+xml;base64,PHN2ZyB4bWxucz0iaHR0cDovL3d3dy53My5vcmcvMjAwMC9zdmciIHdpZHRoPSIzMiIgaGVpZ2h0PSIzMiIgZmlsbD0ibm9uZSI+PHBhdGggZmlsbD0iI0IyMEYwMyIgZD0iTTE2IDNhMTMgMTMgMCAxIDAgMTMgMTNBMTMuMDE1IDEzLjAxNSAwIDAgMCAxNiAzbTAgMjRhMTEgMTEgMCAxIDEgMTEtMTEgMTEuMDEgMTEuMDEgMCAwIDEtMTEgMTEiLz48cGF0aCBmaWxsPSIjQjIwRjAzIiBkPSJNMTcuMDM4IDE4LjYxNUgxNC44N0wxNC41NjMgOS41aDIuNzgzem0tMS4wODQgMS40MjdxLjY2IDAgMS4wNTcuMzg4LjQwNy4zODkuNDA3Ljk5NCAwIC41OTYtLjQwNy45ODQtLjM5Ny4zOS0xLjA1Ny4zODktLjY1IDAtMS4wNTYtLjM4OS0uMzk4LS4zODktLjM5OC0uOTg0IDAtLjU5Ny4zOTgtLjk4NS40MDYtLjM5NyAxLjA1Ni0uMzk3Ii8+PC9zdmc+)}body.light{background-color:transparent;color:#313131}body.light a{color:#0051c3}body.light a:hover{color:#ee730a;text-decoration:underline}body.light .lds-ring div{border-color:#595959 transparent transparent}body.light .font-red{color:#fc574a}body.light .big-button,body.light .pow-button{background-color:#003681;border-color:#003681;color:#fff}body.light #challenge-success-text{background-image:url(data:image/svg+xml;base64,PHN2ZyB4bWxucz0iaHR0cDovL3d3dy53My5vcmcvMjAwMC9zdmciIHdpZHRoPSIzMiIgaGVpZ2h0PSIzMiIgZmlsbD0ibm9uZSIgdmlld0JveD0iMCAwIDI2IDI2Ij48cGF0aCBmaWxsPSIjMzEzMTMxIiBkPSJNMTMgMGExMyAxMyAwIDEgMCAwIDI2IDEzIDEzIDAgMCAwIDAtMjZtMCAyNGExMSAxMSAwIDEgMSAwLTIyIDExIDExIDAgMCAxIDAgMjIiLz48cGF0aCBmaWxsPSIjMzEzMTMxIiBkPSJtMTAuOTU1IDE2LjA1NS0zLjk1LTQuMTI1LTEuNDQ1IDEuMzg1IDUuMzcgNS42MSA5LjQ5NS05LjYtMS40Mi0xLjQwNXoiLz48L3N2Zz4=)}body.light #challenge-error-text{background-image:url(data:image/svg+xml;base64,PHN2ZyB4bWxucz0iaHR0cDovL3d3dy53My5vcmcvMjAwMC9zdmciIHdpZHRoPSIzMiIgaGVpZ2h0PSIzMiIgZmlsbD0ibm9uZSI+PHBhdGggZmlsbD0iI2ZjNTc0YSIgZD0iTTE2IDNhMTMgMTMgMCAxIDAgMTMgMTNBMTMuMDE1IDEzLjAxNSAwIDAgMCAxNiAzbTAgMjRhMTEgMTEgMCAxIDEgMTEtMTEgMTEuMDEgMTEuMDEgMCAwIDEtMTEgMTEiLz48cGF0aCBmaWxsPSIjZmM1NzRhIiBkPSJNMTcuMDM4IDE4LjYxNUgxNC44N0wxNC41NjMgOS41aDIuNzgzem0tMS4wODQgMS40MjdxLjY2IDAgMS4wNTcuMzg4LjQwNy4zODkuNDA3Ljk5NCAwIC41OTYtLjQwNy45ODQtLjM5Ny4zOS0xLjA1Ny4zODktLjY1IDAtMS4wNTYtLjM4OS0uMzk4LS4zODktLjM5OC0uOTg0IDAtLjU5Ny4zOTgtLjk4NS40MDYtLjM5NyAxLjA1Ni0uMzk3Ii8+PC9zdmc+)}a{background-color:transparent;color:#0051c3;text-decoration:none;transition:color .15s ease}a:hover{color:#ee730a;text-decoration:underline}.main-content{margin:8rem auto;max-width:60rem;width:100%}.heading-favicon{height:2rem;margin-right:.5rem;width:2rem}@media (width <= 720px){.main-content{margin-top:4rem}.heading-favicon{height:1.5rem;width:1.5rem}}.footer,.main-content{padding-left:1.5rem;padding-right:1.5rem}.main-wrapper{align-items:center;display:flex;flex:1;flex-direction:column}.font-red{color:#b20f03}.spacer{margin:2rem 0}.h1{font-size:2.5rem;font-weight:500;line-height:3.75rem}.h2{font-weight:500}.core-msg,.h2{font-size:1.5rem;line-height:2.25rem}.body-text,.core-msg{font-weight:400}.body-text{font-size:1rem;line-height:1.25rem}@media (width <= 720px){.h1{font-size:1.5rem;line-height:1.75rem}.h2{font-size:1.25rem}.core-msg,.h2{line-height:1.5rem}.core-msg{font-size:1rem}}#challenge-error-text{background-image:url(data:image/svg+xml;base64,PHN2ZyB4bWxucz0iaHR0cDovL3d3dy53My5vcmcvMjAwMC9zdmciIHdpZHRoPSIzMiIgaGVpZ2h0PSIzMiIgZmlsbD0ibm9uZSI+PHBhdGggZmlsbD0iI2ZjNTc0YSIgZD0iTTE2IDNhMTMgMTMgMCAxIDAgMTMgMTNBMTMuMDE1IDEzLjAxNSAwIDAgMCAxNiAzbTAgMjRhMTEgMTEgMCAxIDEgMTEtMTEgMTEuMDEgMTEuMDEgMCAwIDEtMTEgMTEiLz48cGF0aCBmaWxsPSIjZmM1NzRhIiBkPSJNMTcuMDM4IDE4LjYxNUgxNC44N0wxNC41NjMgOS41aDIuNzgzem0tMS4wODQgMS40MjdxLjY2IDAgMS4wNTcuMzg4LjQwNy4zODkuNDA3Ljk5NCAwIC41OTYtLjQwNy45ODQtLjM5Ny4zOS0xLjA1Ny4zODktLjY1IDAtMS4wNTYtLjM4OS0uMzk4LS4zODktLjM5OC0uOTg0IDAtLjU5Ny4zOTgtLjk4NS40MDYtLjM5NyAxLjA1Ni0uMzk3Ii8+PC9zdmc+);padding-left:34px}#challenge-error-text,#challenge-success-text{background-repeat:no-repeat;background-size:contain}#challenge-success-text{background-image:url(data:image/svg+xml;base64,PHN2ZyB4bWxucz0iaHR0cDovL3d3dy53My5vcmcvMjAwMC9zdmciIHdpZHRoPSIzMiIgaGVpZ2h0PSIzMiIgZmlsbD0ibm9uZSIgdmlld0JveD0iMCAwIDI2IDI2Ij48cGF0aCBmaWxsPSIjMzEzMTMxIiBkPSJNMTMgMGExMyAxMyAwIDEgMCAwIDI2IDEzIDEzIDAgMCAwIDAtMjZtMCAyNGExMSAxMSAwIDEgMSAwLTIyIDExIDExIDAgMCAxIDAgMjIiLz48cGF0aCBmaWxsPSIjMzEzMTMxIiBkPSJtMTAuOTU1IDE2LjA1NS0zLjk1LTQuMTI1LTEuNDQ1IDEuMzg1IDUuMzcgNS42MSA5LjQ5NS05LjYtMS40Mi0xLjQwNXoiLz48L3N2Zz4=);padding-left:42px}.text-center{text-align:center}.big-button{border:.063rem solid #0051c3;border-radius:.313rem;font-size:.875rem;line-height:1.313rem;padding:.375rem 1rem;transition-duration:.2s;transition-property:background-color,border-color,color;transition-timing-function:ease}.big-button:hover{cursor:pointer}.captcha-prompt:not(.hidden){display:flex}@media (width <= 720px){.captcha-prompt:not(.hidden){flex-wrap:wrap;justify-content:center}}.pow-button{background-color:#0051c3;color:#fff;margin:2rem 0}.pow-button:hover{background-color:#003681;border-color:#003681;color:#fff}.footer{font-size:.75rem;line-height:1.125rem;margin:0 auto;max-width:60rem;width:100%}.footer-inner{border-top:1px solid #d9d9d9;padding-bottom:1rem;padding-top:1rem}.clearfix:after{clear:both;content:\"\";display:table}.clearfix .column{float:left;padding-right:1.5rem;width:50%}.diagnostic-wrapper{margin-bottom:.5rem}.footer .ray-id{text-align:center}.footer .ray-id code{font-family:monaco,courier,monospace}.core-msg,.zone-name-title{overflow-wrap:break-word}@media (width <= 720px){.diagnostic-wrapper{display:flex;flex-wrap:wrap;justify-content:center}.clearfix:after{clear:none;content:none;display:initial;text-align:center}.column{padding-bottom:2rem}.clearfix .column{float:none;padding:0;width:auto;word-break:keep-all}.zone-name-title{margin-bottom:1rem}}.loading-spinner{height:76.391px}.lds-ring{display:inline-block;position:relative}.lds-ring,.lds-ring div{height:1.875rem;width:1.875rem}.lds-ring div{animation:lds-ring 1.2s cubic-bezier(.5,0,.5,1) infinite;border:.3rem solid transparent;border-radius:50%;border-top-color:#313131;box-sizing:border-box;display:block;position:absolute}.lds-ring div:first-child{animation-delay:-.45s}.lds-ring div:nth-child(2){animation-delay:-.3s}.lds-ring div:nth-child(3){animation-delay:-.15s}@keyframes lds-ring{0%{transform:rotate(0)}to{transform:rotate(1turn)}}@media screen and (-ms-high-contrast:active),screen and (-ms-high-contrast:none){.main-wrapper,body{display:block}}</style><meta http-equiv=\"refresh\" content=\"375\"></head><body class=\"no-js\"><div class=\"main-wrapper\" role=\"main\"><div class=\"main-content\"><noscript><div id=\"challenge-error-title\"><div class=\"h2\"><span id=\"challenge-error-text\">Enable JavaScript and cookies to continue</span></div></div></noscript></div></div><script>(function(){window._cf_chl_opt={cvId: \\'3\\',cZone: \"www.artstation.com\",cType: \\'managed\\',cNounce: \\'60805\\',cRay: \\'853e19b208e00004\\',cHash: \\'0bbade370d383d3\\',cUPMDTk: \"\\\\/artwork\\\\/Ry4koO?__cf_chl_tk=Vb_W3bjdh.abvajzM5krKUztFd_gyK1tmo8_FgxoEOI-1707670326-0-3280\",cFPWv: \\'b\\',cTTimeMs: \\'1000\\',cMTimeMs: \\'375000\\',cTplV: 5,cTplB: \\'cf\\',cK: \"visitor-time\",fa: \"\\\\/artwork\\\\/Ry4koO?__cf_chl_f_tk=Vb_W3bjdh.abvajzM5krKUztFd_gyK1tmo8_FgxoEOI-1707670326-0-3280\",md: \"b9EE2Z5rOOkifdoVOBhxxilNUAr_DTmeBFBN28HOkJs-1707670326-1-Acz_ti4cGyhG6_Y2Feep36MiyBlSzM5_0kwTzC-WNXUnZWSlIDQbkpjpXCSYIk7qVcbLetB5OcFdqZkIUXZjaYQRBdtYqNSeK3XKwxkTO80DzA9pj0rBS5IpY-6VfzDyMJqV6aKdNkT333r7nVvst0aWc_-d1z-AscedBXyCrceWA7UNEuHH1cK6NQIBozMGcr0AqwOclsEKdNv6dPRrqYE3_l-W-UX78CmZTYzfgNPlxuiQf5yhsPblSnQUEZXd8RBYvH_CBIWzTvey7OUgPhgwebQ9cUIjZxrdtAMU2q99OKBcpBnK_A4M1M0RIJPvFobNWEugZFOlw82FGKAYiEXO5Livk8vpIWpOA3zCavG84RqTcb825Kip7_b56vdIFnLxkNmb87IjaIT-Al24ZMlsNP85koqrTloF0VpPQHSXF2FWX8ZCJ1-rk1dTzjM5QQNt6rd9p_IxPoAl9ZkpsYrElEjDVuuNHXEwjvw65yQo2FWvp5whUbLFXCZfK82fsobaLckjVRv9AO45-lAzbFWRHGnco6t3JnEgT8LfB_pKaJwkOPehYpHDnQJmyDINJ2zY7zeHghtFlLowlotYeRj8CFuweHkUJUCDnAQfewWQBFI0joruiimvdoHA-g_8ZqPM4zNp5Q2C2hyXaVfScV-IMZ8jPfiPGoCL6DfBcYTZDASRFZSYz8mGWGz9K3rTOFrq94O2B3l4v-xAzlAtScFxfJGsTbK4WQGm5IXl_Z5sAVOOaMzH2PZRdwqgWjJ-koZ3BnjrNG5yp1HQndoC2F9sUeDmkWyWoiznT8cCcdsdv6Y2Uh3qni-nzNnzwSAfsBSRuAXDRulDpttBQZAmSrMj4K-UZRsT81kC5gLo9oFbaG_yrIB76-IriWoj2pjAfd8TDoCVWM8EC8dfSz48b94WuT_fRUUlNfQMCT82QWpHJN2rrFe7G_e6MzlYROriqtQyOyMvU5xRTQnn_V1XLI284XFW9VqfwhQgNfdPKFlZ5bwjuT7RB0QUybXiplfHKercVzKbr0of6dQbAXAwh4mqjdB89c-RY3DJKlTBgmQKh14yeiOq17EtJEmuIq_r89SvpnmI3R1orQL9hwY28Mtc6yx29rc2OXfjHBJ45asnlWnvbDSbGfbldVm1xFhpGOln_sXZCpMOMpeDVkI9s9nUt3dinJIiK7QTX-Az9D2pFEvgOGmTnyeMjqK3XYRYKhVhLMyKt-vx-6PAXH6VCJFRkcnI0AsXIK04O_OCSUPyQPmN3cjEQAhTesIbqblHZm7HZwTkztazrkBetgqpWRSdgVp-crUo_mX-qRAHN0up_AzF3_0jomwxSCQsi3w5BqYdSzK-4c1MDWG7c-V6asJUxJA_9XRZ7Cb_F060WOzc4mAV6N-L2UIcNZRFarcoOmiG0_TJ5-0KjAijteCMz3XOPBB4LuPyVuz_H-JepaGL1gmq7Musl3vpA1pzZHPE8I9qmWsdUQgstv_Pk5RJbM6EdmJ_klyD2KxxfrqLyJB5z4hw3OP6UhB3YgSqOBGpnp33K0W0irxSlAZVdrpqheAaGP3qNOjziGx2CD6Ls0fWvW21xs5fPfK_pJjVcV5tziADNPXUOY_txZq8WAYP9L1PAs43dF_XLJsv6v6Z6cyqOHQfwnKEsl7t8MBSZq5_fwJFxdN8oy_gL81zZmB7mLd3270NDqbWpcOf6p4PgjCUJzsjMglXPDsBtkT4i3g77f3cuevRlgbwY7mlZsG1LJA3GTqVOHPKIghFrNGM6jlpHFgrBy7VJCceYrzms2UMUoyLeW67NTbUwIDOL383wIuMVlYtf8imp6sW3WAcuyND-HMCN52p_cpujklT9IqMY1TZ8JsSyAMsUe6ghiMbVuW_6MVsJQUcj2_lvZc1E26xFwWgPv7EMRavot_wul9yWs9R4tNzd2cE-Umuk8amrR6FLy6Ne8p8lc2mC56j1x_CPyFIXQMwo0_IFuC6CFrabJ9-1E7r88mmU4HTWaM3XnNYylq2sJm1DNCwqhnodG4U2Q93BQgTvwN1ztYBsg5WmxqeY1QfLrmtM0anuREKpiKabUztUrzLX3htThkBWZQtGSKwno_1BrkXysLS-rsaLHMsMbwg_GHIX92rACmqkSrFq8Z6nSMmlRghzj8tNyBQqUt5DiJPmAvomrjxm8Z_H74QgB4RwbS4KBSkTKDK3doMV0miUdOk98tTV7LuBFZk9_vKIBz92XGq1uvFx4PYaj0ZH7OmApoRng4rbNm34Z5wW3QFbNyDA6c5bi5mRJyvlW71HVQm-bYV3jVP7xa7UVf-H1eukIkELmxL75wyKUNVOW5Yk5sDNQymmkbqUAh9FNausCQbfySRoCoGmYjN3cg3EfVwtJrZfh9Dne2mOC7CWEXzeFw73z-nInsJHr1xFQSpp6KM1vmnVF-I3Ss-us16i0QibPDKqICG9KK_Y1nT1mCpSEuEfWIhik7nl0JMOaYy8rUlaNIfeVhi0E66EgY9qv3NB6uTrgHjoz5hRRFtpAeEIOphWw0xgqN97U1YZpNwqP2l7pekRVFmnhvAZAmch2UuJjDiuk757e_zOdrDh7RORBey-uO8PgaCzmLCGDegiNZv98nXBr_L25ntsRzDQ1lTxWGWfodS1d7W7ijHGZNNq_dcdipb0BR4sUrdl3FTDNZIxsXmjgoZhtH8PjCTVs9a1-_Knf04LLjrxJETW9sjwSByujBZSXJZNr5ckxc9Bvpd1OgaUYAESdEH3gqM065LGClrF-KK5QD7ItSnDWb3tql2PDjQoy_WqGlJ3sY9Oh4HfI0zIIKrNYrCZOn6qhunVSwq8kmq09Vg2iz0hRlRb_7-qHykfenk3Wj4WuoAvjDTrgvuEVXDZd99ijQQqQfkTeCw5OsBWdbX6iygGIn74qQW2kyIYSywJl2UHBMYCTTRdchnBPeWeSXV8i6woEOAt0Lv9cb_9GnDEe6iDC-5PIBNStuP7rQLWu6XmZMTvroMgSOpi3KasYHFyboVDyQ8u_eFdRvZAYbKUM_UtY91elIYfdlTsOuzfyIxFuT97DSrb5RsdRWhCSliR3QsvIGTkRG9WmNJidcHZVD4l4x9YeXc7qUJ3gDsKp2iwPhjqoeAMewn0IQE15xDcJvOYBJrsCrBl-vafT7pCN9u_E7GXOr7IuyDi1EZqpfI5ndInG4vcBzw9UOQqXf52n_wD7TkodtKLroXZxVpPJU\",cRq: {ru: \\'aHR0cHM6Ly93d3cuYXJ0c3RhdGlvbi5jb20vYXJ0d29yay9SeTRrb08=\\',ra: \\'cHl0aG9uLXJlcXVlc3RzLzIuMzEuMA==\\',rm: \\'R0VU\\',d: \\'4W39mdd5EcyIaPBzvbKzrdDJStjnwdjnso+qwYMRTCTwvdcokcZEVRztJP7WRvxilQtW40JFXkoeOlGLtN0+rGSWfvtvwqnWSs2FZIyhWZvPzizKreXNdeA+H06VGZ9HaJ8nblPzbsl09fPqvfXG30M33UzDfvlRPSK1Ix8bSPri+8+hK6lCLRPXYap35Tm9RiZmPyYzkMSuGlzpGhd0E4AD/UIgKm1U94W0cAot8FDHPPpZdGPqf1hpkjqfSVSnQ5yuQH0kwehVLd81/+wAyRqjX8wBtkJEpCJUJj90GdxhcPbAde2hHljaXnHpcUZIa+steadk7hdBgT24gFfweQPaLDRP4sNUxKQoyGN+g1LPs4SswB3Isz8YWsb/UzqHCzEWpo7m0dBilPpCSyFvMEoQKkCBWgVoIOrszT5kX5Hz/O7pwGW2It4we4mgN2UZbGlLFi1h9tM0K+kEdlir+nQk4C5PizSYA3EOPclTM56/A3u6SKx7jR9g2sgT5Co4OAjJrvGITDIg1eK/tcZw2OulfCD5jZAy4Naoiw8GETCJsvWPxVEF0qIxgy7iDWD7pWFzGCinXS/CYHAfbglPdw==\\',t: \\'MTcwNzY3MDMyNi4wODQwMDA=\\',cT: Math.floor(Date.now() / 1000),m: \\'Hf1PLj+K2XXR+sIadqGGJaZ4gW7BrOrJOKo1IzVnrPs=\\',i1: \\'2eN+5lsjVcQ0Rursn1Z8lg==\\',i2: \\'0qgpKLy8JP3UmKJpm8QlyQ==\\',zh: \\'rPXm+D0NG2NvinfbzRafXJkI3L6k6lBTdLP0RfMnp0o=\\',uh: \\'YE9XOpG5TeHmhA1zfs5mxC8CrRZzq2a/+r+OU7dliYQ=\\',hh: \\'hZ5U3CZ1X77DSPy5TIY/FOc/Q3qpO5VIwuPmi4trrn4=\\',}};var cpo = document.createElement(\\'script\\');cpo.src = \\'/cdn-cgi/challenge-platform/h/b/orchestrate/chl_page/v1?ray=853e19b208e00004\\';window._cf_chl_opt.cOgUHash = location.hash === \\'\\' && location.href.indexOf(\\'#\\') !== -1 ? \\'#\\' : location.hash;window._cf_chl_opt.cOgUQuery = location.search === \\'\\' && location.href.slice(0, location.href.length - window._cf_chl_opt.cOgUHash.length).indexOf(\\'?\\') !== -1 ? \\'?\\' : location.search;if (window.history && window.history.replaceState) {var ogU = location.pathname + window._cf_chl_opt.cOgUQuery + window._cf_chl_opt.cOgUHash;history.replaceState(null, null, \"\\\\/artwork\\\\/Ry4koO?__cf_chl_rt_tk=Vb_W3bjdh.abvajzM5krKUztFd_gyK1tmo8_FgxoEOI-1707670326-0-3280\" + window._cf_chl_opt.cOgUHash);cpo.onload = function() {history.replaceState(null, null, ogU);}}document.getElementsByTagName(\\'head\\')[0].appendChild(cpo);}());</script></body></html>'"
      ]
     },
     "execution_count": 32,
     "metadata": {},
     "output_type": "execute_result"
    }
   ],
   "source": [
    "responce_2.content"
   ]
  },
  {
   "cell_type": "code",
   "execution_count": 48,
   "metadata": {},
   "outputs": [
    {
     "data": {
      "text/plain": [
       "b'<!DOCTYPE html><html lang=\"en-US\"><head><title>Just a moment...</title><meta http-equiv=\"Content-Type\" content=\"text/html; charset=UTF-8\"><meta http-equiv=\"X-UA-Compatible\" content=\"IE=Edge\"><meta name=\"robots\" content=\"noindex,nofollow\"><meta name=\"viewport\" content=\"width=device-width,initial-scale=1\"><style>*{box-sizing:border-box;margin:0;padding:0}html{line-height:1.15;-webkit-text-size-adjust:100%;color:#313131}button,html{font-family:system-ui,-apple-system,BlinkMacSystemFont,Segoe UI,Roboto,Helvetica Neue,Arial,Noto Sans,sans-serif,Apple Color Emoji,Segoe UI Emoji,Segoe UI Symbol,Noto Color Emoji}@media (prefers-color-scheme:dark){body{background-color:#222;color:#d9d9d9}body a{color:#fff}body a:hover{color:#ee730a;text-decoration:underline}body .lds-ring div{border-color:#999 transparent transparent}body .font-red{color:#b20f03}body .big-button,body .pow-button{background-color:#4693ff;color:#1d1d1d}body #challenge-success-text{background-image:url(data:image/svg+xml;base64,PHN2ZyB4bWxucz0iaHR0cDovL3d3dy53My5vcmcvMjAwMC9zdmciIHdpZHRoPSIzMiIgaGVpZ2h0PSIzMiIgZmlsbD0ibm9uZSIgdmlld0JveD0iMCAwIDI2IDI2Ij48cGF0aCBmaWxsPSIjZDlkOWQ5IiBkPSJNMTMgMGExMyAxMyAwIDEgMCAwIDI2IDEzIDEzIDAgMCAwIDAtMjZtMCAyNGExMSAxMSAwIDEgMSAwLTIyIDExIDExIDAgMCAxIDAgMjIiLz48cGF0aCBmaWxsPSIjZDlkOWQ5IiBkPSJtMTAuOTU1IDE2LjA1NS0zLjk1LTQuMTI1LTEuNDQ1IDEuMzg1IDUuMzcgNS42MSA5LjQ5NS05LjYtMS40Mi0xLjQwNXoiLz48L3N2Zz4=)}body #challenge-error-text{background-image:url(data:image/svg+xml;base64,PHN2ZyB4bWxucz0iaHR0cDovL3d3dy53My5vcmcvMjAwMC9zdmciIHdpZHRoPSIzMiIgaGVpZ2h0PSIzMiIgZmlsbD0ibm9uZSI+PHBhdGggZmlsbD0iI0IyMEYwMyIgZD0iTTE2IDNhMTMgMTMgMCAxIDAgMTMgMTNBMTMuMDE1IDEzLjAxNSAwIDAgMCAxNiAzbTAgMjRhMTEgMTEgMCAxIDEgMTEtMTEgMTEuMDEgMTEuMDEgMCAwIDEtMTEgMTEiLz48cGF0aCBmaWxsPSIjQjIwRjAzIiBkPSJNMTcuMDM4IDE4LjYxNUgxNC44N0wxNC41NjMgOS41aDIuNzgzem0tMS4wODQgMS40MjdxLjY2IDAgMS4wNTcuMzg4LjQwNy4zODkuNDA3Ljk5NCAwIC41OTYtLjQwNy45ODQtLjM5Ny4zOS0xLjA1Ny4zODktLjY1IDAtMS4wNTYtLjM4OS0uMzk4LS4zODktLjM5OC0uOTg0IDAtLjU5Ny4zOTgtLjk4NS40MDYtLjM5NyAxLjA1Ni0uMzk3Ii8+PC9zdmc+)}}body{display:flex;flex-direction:column;min-height:100vh}body.no-js .loading-spinner{visibility:hidden}body.no-js .challenge-running{display:none}body.dark{background-color:#222;color:#d9d9d9}body.dark a{color:#fff}body.dark a:hover{color:#ee730a;text-decoration:underline}body.dark .lds-ring div{border-color:#999 transparent transparent}body.dark .font-red{color:#b20f03}body.dark .big-button,body.dark .pow-button{background-color:#4693ff;color:#1d1d1d}body.dark #challenge-success-text{background-image:url(data:image/svg+xml;base64,PHN2ZyB4bWxucz0iaHR0cDovL3d3dy53My5vcmcvMjAwMC9zdmciIHdpZHRoPSIzMiIgaGVpZ2h0PSIzMiIgZmlsbD0ibm9uZSIgdmlld0JveD0iMCAwIDI2IDI2Ij48cGF0aCBmaWxsPSIjZDlkOWQ5IiBkPSJNMTMgMGExMyAxMyAwIDEgMCAwIDI2IDEzIDEzIDAgMCAwIDAtMjZtMCAyNGExMSAxMSAwIDEgMSAwLTIyIDExIDExIDAgMCAxIDAgMjIiLz48cGF0aCBmaWxsPSIjZDlkOWQ5IiBkPSJtMTAuOTU1IDE2LjA1NS0zLjk1LTQuMTI1LTEuNDQ1IDEuMzg1IDUuMzcgNS42MSA5LjQ5NS05LjYtMS40Mi0xLjQwNXoiLz48L3N2Zz4=)}body.dark #challenge-error-text{background-image:url(data:image/svg+xml;base64,PHN2ZyB4bWxucz0iaHR0cDovL3d3dy53My5vcmcvMjAwMC9zdmciIHdpZHRoPSIzMiIgaGVpZ2h0PSIzMiIgZmlsbD0ibm9uZSI+PHBhdGggZmlsbD0iI0IyMEYwMyIgZD0iTTE2IDNhMTMgMTMgMCAxIDAgMTMgMTNBMTMuMDE1IDEzLjAxNSAwIDAgMCAxNiAzbTAgMjRhMTEgMTEgMCAxIDEgMTEtMTEgMTEuMDEgMTEuMDEgMCAwIDEtMTEgMTEiLz48cGF0aCBmaWxsPSIjQjIwRjAzIiBkPSJNMTcuMDM4IDE4LjYxNUgxNC44N0wxNC41NjMgOS41aDIuNzgzem0tMS4wODQgMS40MjdxLjY2IDAgMS4wNTcuMzg4LjQwNy4zODkuNDA3Ljk5NCAwIC41OTYtLjQwNy45ODQtLjM5Ny4zOS0xLjA1Ny4zODktLjY1IDAtMS4wNTYtLjM4OS0uMzk4LS4zODktLjM5OC0uOTg0IDAtLjU5Ny4zOTgtLjk4NS40MDYtLjM5NyAxLjA1Ni0uMzk3Ii8+PC9zdmc+)}body.light{background-color:transparent;color:#313131}body.light a{color:#0051c3}body.light a:hover{color:#ee730a;text-decoration:underline}body.light .lds-ring div{border-color:#595959 transparent transparent}body.light .font-red{color:#fc574a}body.light .big-button,body.light .pow-button{background-color:#003681;border-color:#003681;color:#fff}body.light #challenge-success-text{background-image:url(data:image/svg+xml;base64,PHN2ZyB4bWxucz0iaHR0cDovL3d3dy53My5vcmcvMjAwMC9zdmciIHdpZHRoPSIzMiIgaGVpZ2h0PSIzMiIgZmlsbD0ibm9uZSIgdmlld0JveD0iMCAwIDI2IDI2Ij48cGF0aCBmaWxsPSIjMzEzMTMxIiBkPSJNMTMgMGExMyAxMyAwIDEgMCAwIDI2IDEzIDEzIDAgMCAwIDAtMjZtMCAyNGExMSAxMSAwIDEgMSAwLTIyIDExIDExIDAgMCAxIDAgMjIiLz48cGF0aCBmaWxsPSIjMzEzMTMxIiBkPSJtMTAuOTU1IDE2LjA1NS0zLjk1LTQuMTI1LTEuNDQ1IDEuMzg1IDUuMzcgNS42MSA5LjQ5NS05LjYtMS40Mi0xLjQwNXoiLz48L3N2Zz4=)}body.light #challenge-error-text{background-image:url(data:image/svg+xml;base64,PHN2ZyB4bWxucz0iaHR0cDovL3d3dy53My5vcmcvMjAwMC9zdmciIHdpZHRoPSIzMiIgaGVpZ2h0PSIzMiIgZmlsbD0ibm9uZSI+PHBhdGggZmlsbD0iI2ZjNTc0YSIgZD0iTTE2IDNhMTMgMTMgMCAxIDAgMTMgMTNBMTMuMDE1IDEzLjAxNSAwIDAgMCAxNiAzbTAgMjRhMTEgMTEgMCAxIDEgMTEtMTEgMTEuMDEgMTEuMDEgMCAwIDEtMTEgMTEiLz48cGF0aCBmaWxsPSIjZmM1NzRhIiBkPSJNMTcuMDM4IDE4LjYxNUgxNC44N0wxNC41NjMgOS41aDIuNzgzem0tMS4wODQgMS40MjdxLjY2IDAgMS4wNTcuMzg4LjQwNy4zODkuNDA3Ljk5NCAwIC41OTYtLjQwNy45ODQtLjM5Ny4zOS0xLjA1Ny4zODktLjY1IDAtMS4wNTYtLjM4OS0uMzk4LS4zODktLjM5OC0uOTg0IDAtLjU5Ny4zOTgtLjk4NS40MDYtLjM5NyAxLjA1Ni0uMzk3Ii8+PC9zdmc+)}a{background-color:transparent;color:#0051c3;text-decoration:none;transition:color .15s ease}a:hover{color:#ee730a;text-decoration:underline}.main-content{margin:8rem auto;max-width:60rem;width:100%}.heading-favicon{height:2rem;margin-right:.5rem;width:2rem}@media (width <= 720px){.main-content{margin-top:4rem}.heading-favicon{height:1.5rem;width:1.5rem}}.footer,.main-content{padding-left:1.5rem;padding-right:1.5rem}.main-wrapper{align-items:center;display:flex;flex:1;flex-direction:column}.font-red{color:#b20f03}.spacer{margin:2rem 0}.h1{font-size:2.5rem;font-weight:500;line-height:3.75rem}.h2{font-weight:500}.core-msg,.h2{font-size:1.5rem;line-height:2.25rem}.body-text,.core-msg{font-weight:400}.body-text{font-size:1rem;line-height:1.25rem}@media (width <= 720px){.h1{font-size:1.5rem;line-height:1.75rem}.h2{font-size:1.25rem}.core-msg,.h2{line-height:1.5rem}.core-msg{font-size:1rem}}#challenge-error-text{background-image:url(data:image/svg+xml;base64,PHN2ZyB4bWxucz0iaHR0cDovL3d3dy53My5vcmcvMjAwMC9zdmciIHdpZHRoPSIzMiIgaGVpZ2h0PSIzMiIgZmlsbD0ibm9uZSI+PHBhdGggZmlsbD0iI2ZjNTc0YSIgZD0iTTE2IDNhMTMgMTMgMCAxIDAgMTMgMTNBMTMuMDE1IDEzLjAxNSAwIDAgMCAxNiAzbTAgMjRhMTEgMTEgMCAxIDEgMTEtMTEgMTEuMDEgMTEuMDEgMCAwIDEtMTEgMTEiLz48cGF0aCBmaWxsPSIjZmM1NzRhIiBkPSJNMTcuMDM4IDE4LjYxNUgxNC44N0wxNC41NjMgOS41aDIuNzgzem0tMS4wODQgMS40MjdxLjY2IDAgMS4wNTcuMzg4LjQwNy4zODkuNDA3Ljk5NCAwIC41OTYtLjQwNy45ODQtLjM5Ny4zOS0xLjA1Ny4zODktLjY1IDAtMS4wNTYtLjM4OS0uMzk4LS4zODktLjM5OC0uOTg0IDAtLjU5Ny4zOTgtLjk4NS40MDYtLjM5NyAxLjA1Ni0uMzk3Ii8+PC9zdmc+);padding-left:34px}#challenge-error-text,#challenge-success-text{background-repeat:no-repeat;background-size:contain}#challenge-success-text{background-image:url(data:image/svg+xml;base64,PHN2ZyB4bWxucz0iaHR0cDovL3d3dy53My5vcmcvMjAwMC9zdmciIHdpZHRoPSIzMiIgaGVpZ2h0PSIzMiIgZmlsbD0ibm9uZSIgdmlld0JveD0iMCAwIDI2IDI2Ij48cGF0aCBmaWxsPSIjMzEzMTMxIiBkPSJNMTMgMGExMyAxMyAwIDEgMCAwIDI2IDEzIDEzIDAgMCAwIDAtMjZtMCAyNGExMSAxMSAwIDEgMSAwLTIyIDExIDExIDAgMCAxIDAgMjIiLz48cGF0aCBmaWxsPSIjMzEzMTMxIiBkPSJtMTAuOTU1IDE2LjA1NS0zLjk1LTQuMTI1LTEuNDQ1IDEuMzg1IDUuMzcgNS42MSA5LjQ5NS05LjYtMS40Mi0xLjQwNXoiLz48L3N2Zz4=);padding-left:42px}.text-center{text-align:center}.big-button{border:.063rem solid #0051c3;border-radius:.313rem;font-size:.875rem;line-height:1.313rem;padding:.375rem 1rem;transition-duration:.2s;transition-property:background-color,border-color,color;transition-timing-function:ease}.big-button:hover{cursor:pointer}.captcha-prompt:not(.hidden){display:flex}@media (width <= 720px){.captcha-prompt:not(.hidden){flex-wrap:wrap;justify-content:center}}.pow-button{background-color:#0051c3;color:#fff;margin:2rem 0}.pow-button:hover{background-color:#003681;border-color:#003681;color:#fff}.footer{font-size:.75rem;line-height:1.125rem;margin:0 auto;max-width:60rem;width:100%}.footer-inner{border-top:1px solid #d9d9d9;padding-bottom:1rem;padding-top:1rem}.clearfix:after{clear:both;content:\"\";display:table}.clearfix .column{float:left;padding-right:1.5rem;width:50%}.diagnostic-wrapper{margin-bottom:.5rem}.footer .ray-id{text-align:center}.footer .ray-id code{font-family:monaco,courier,monospace}.core-msg,.zone-name-title{overflow-wrap:break-word}@media (width <= 720px){.diagnostic-wrapper{display:flex;flex-wrap:wrap;justify-content:center}.clearfix:after{clear:none;content:none;display:initial;text-align:center}.column{padding-bottom:2rem}.clearfix .column{float:none;padding:0;width:auto;word-break:keep-all}.zone-name-title{margin-bottom:1rem}}.loading-spinner{height:76.391px}.lds-ring{display:inline-block;position:relative}.lds-ring,.lds-ring div{height:1.875rem;width:1.875rem}.lds-ring div{animation:lds-ring 1.2s cubic-bezier(.5,0,.5,1) infinite;border:.3rem solid transparent;border-radius:50%;border-top-color:#313131;box-sizing:border-box;display:block;position:absolute}.lds-ring div:first-child{animation-delay:-.45s}.lds-ring div:nth-child(2){animation-delay:-.3s}.lds-ring div:nth-child(3){animation-delay:-.15s}@keyframes lds-ring{0%{transform:rotate(0)}to{transform:rotate(1turn)}}@media screen and (-ms-high-contrast:active),screen and (-ms-high-contrast:none){.main-wrapper,body{display:block}}</style><meta http-equiv=\"refresh\" content=\"375\"></head><body class=\"no-js\"><div class=\"main-wrapper\" role=\"main\"><div class=\"main-content\"><noscript><div id=\"challenge-error-title\"><div class=\"h2\"><span id=\"challenge-error-text\">Enable JavaScript and cookies to continue</span></div></div></noscript></div></div><script>(function(){window._cf_chl_opt={cvId: \\'3\\',cZone: \"www.artstation.com\",cType: \\'managed\\',cNounce: \\'96194\\',cRay: \\'853e30e60a6176a9\\',cHash: \\'b2554c67b328963\\',cUPMDTk: \"\\\\/projects.json\\\\/artwork\\\\/Dv5k5G?__cf_chl_tk=bNELlB2YLN.t7GwN8tqYm59Xhv0XjXk3HmU5mo5FQfM-1707671276-0-3301\",cFPWv: \\'b\\',cTTimeMs: \\'1000\\',cMTimeMs: \\'375000\\',cTplV: 5,cTplB: \\'cf\\',cK: \"visitor-time\",fa: \"\\\\/projects.json\\\\/artwork\\\\/Dv5k5G?__cf_chl_f_tk=bNELlB2YLN.t7GwN8tqYm59Xhv0XjXk3HmU5mo5FQfM-1707671276-0-3301\",md: \"HMbSvZMwt3p6UKtAFvTlEYb0R2b.6CRlnH6KF1nOojg-1707671276-1-AQfNXy9CgPIpT5ziWJW6SZbibkEXjPh4fxsvuz9oIOTuDktS4PZbuewhxoMHg6Nt8DZgM2TDuUsHHZnNvSAVFzUH0KeGiRLag8IHFNWcsMcjaL8Td5W3XnBGlTxzhBLz8lAy-YhtjZ-kbGr7UrVJvJ3Sdch9zudguCb4athuw3KUI85ulbVNzxnnHai1D6pYyyMhyjYFoubJxHoD1zgjFPD3UV4o8xH43qUTbgdcjx4YcmPH8-5XlN9rz3hWhe1y1jZfAOEnCGPVgVe_XoydumEAolVWh_B6vk7OBmgl7WFH9zSwvkw8Hv6-9yylGNmvZNaWbTjN0tlhIILhZlGtzMznAwROYZBt6ba1e7tbshFWWB59vUjlRwVjlCP9PHjUoZEBN1tMOqWnde9331gnJKRdDD-6mmsFXTLF4hJIxRKg2Cc1lNIW0ffro5knv4XRcQdjBqiC-zIFCqTN1VOjTyfOVs7LyI3IphAswtw78KADw9Km2oW2B7N5Qqy73dk1j3_9uZKCr3O_TkpDaqlmaOWOeLmerAtedK1uIymzeedsF3fQmXBo7ww0GQ4EhctUvaQdl14JFF9__aaqVk3x8_pKmAGWzgc1pfjdJbMijPWuzXIXQhAnIijFbtdj8pgqKbA_WgEGmDyhT3reftMsMjA-sHC_i0WLHV9qeUlv4Th5cY2kvOMlNg3BKshwN2ok3YTkMqUai3F4x7honuksVcMd5ouNX8ei0IJ8SeODuJHNTj0q-OaAiv9hU0d1NLBnQONzeLMCb1lxPiyQohR4loC1mcZeeJzgwpmJz5DYlKLC4S0BtLChqX3brli_tt4lT0iw_fZ1uA84txrBbj1Put16X8AWnaysmH3aKTv8Hd4m0P1qpBMgFCihKww0jO8lT2IoM5IUZYXqHOfuihGbrTFh1yJA0iG6sLFPHjCY76zyE-lK1VIODJ6WrbFYmMq_3dcRZJD0yF-rTUz_uc9l0hCKt9RP6gHP4GHSeZqwtc3s5LIUfq7G3kYkNUz719YArm3hgfjhKKJadjL3PrWUjHFFYxeu1kpQdohoKrJauj2njk7defL_wdnJpPtR6YgI7o4TMSgfUy3HrwN4w1QNvE0bZAhbtBteCQCoS0OBsHikt6WJDiCenILoAJFuhD9CFqDhaB3VtHO6pndRSkV9wdfoNW0mJwplFnDYLMh3hX9T_cEe3n_KKolD2ss-B1UoMcFHBcvDhNFnlmm-9mey5193xodsZAj7iFFATwTbriIfiF9cwd0xqCYaZDM0EFOIU0lcyAp5LZb7vezBgoAUMnR0FFviODb0cgmGB9VdUJReqB00tCkcKPqbZT8hEQaCWoPnSukJPaAsGS76oGvLFGh5pqQMHZpwhNU4I7JQL9PvOfrlpos8QvklwYTJfwasqsL9xqRRBSJNhlcuICk1rRSJyRN4mYt-_UOjreqQSkUmUHdT2NL6qzGtCc5t0BpUz-XOIFm7VtRpz-CMI5Z1icsVM3VgAnSTT76Xn6R6N1XncNlGi8eujezmViWc3DtU_yaKjpscl02zWibPFnlsa9tfIRvNmvN9iRJFq-LntOsU-_Wj6ML7cK2O-4E_cRvCA3QgYiqBJ07HtdbEoESvDtYPOKrRI8qgi43mfI2Aaazs8CHRn1KWuzABEvvShu0EjpT0htMmJiLiTTCpvLA0B5VoeLw5A-Bgz4ncyzW1Dy-bzmzoSkPsn1S3-Y9ta7bKOmMsXVEPvpvnkKdyndc-4mXLw8LSy7vJKUabGHciGcjLL7ptU9VBa1DRVu8sn6eXOJBrGJ0zbmN3zJwDRQlokCh3KNKDjWq0gjuU4-gVc2NQ-pGoiHpN2zycAyoAXv_ccROTwJrPtLG1HL2HnfDdxpv1mJ-Na5usII8aFD61zx0FXotAF35N1rGXARW1B37PdY7HA7s4w7T7MNxuANsb7b-YBPH5KPsfWmLnJKUNiVKjd5-H3jbS7O4fyc1I2nLJXEpFEmUd6iXJkefpTKD6GNQRubjIBu0I2yXBQ2JWwjRO7cvvOI0dlTIo9AKG1dtq7Z7X3xzPMrBd_o5I9pRastbzotPJIOOpBIzM5K4w3_Te-MhXcQrh00K2rxPD9wLiJJe89K7frZQ1L8CYofLBnAUszoUMNJ4zsg7j4CzwBsj0Lr0dBcvHpYlcjeAk3jnibdENAofJ5Q9q7ku9C_c7BOBiH81-Y4Xcl3X0AUhZjn0jVqtj7Uhl79ENe_dcrtFZ6dtyujbQC6zEZobvmDmZL2ZVnS3eba72BTw9n1XwfKuSeNOMhtjfbQAoIR93hE8SCXrfwLfIbHuNUQJPMi9uNnxzsJiAMT7CESBESO165t2CJKqRj8ngFyNcwrw-pt0zyCgwE2Vvut2D5mZ8hOo5IHmYPiyGihKg4v9zK-_iq1M6h_qbQzIM21t-icmgug1pIlDsfrInDr2Yx-gO4A1MHtubf34Y_wltrfwa9Nwl3AULBoEHJHNmMSsjYMTrntCS0O-3J4F357NUXadNJASV_Lcwf6sGXPg9CYwoWD0xW28V5xytfuS7aD5mNJW3NAGFTsE5Lyh0RipfiC49BX7jl2nzYUA25eodSJcI0Z6TB04Ip8Slz2w7KQsSYiy0fVK7SLGCondj3lqbX1YRJ7pHs2GmyCOoOL8ivU8SrOieVfnhuGiKCCZCBz2NLxaPHgqYnlTCmG8TiCpPPlMzVpOvFun5ljoJiB8yR8qNdMT9YqmFvnwWS6nOX9A6n86U-GhKeWqT3qJj-fLKh2bov-E6whzN10OmLhJKCkA2nvFDqOstsBLkrsNLY4n5RwTuNT4L2q2sgf9Wzsy7f1-Hi1Tkhy1b6ZStQtytjIxojoOSI-gT-6xpjTjQ_4ZQC4X5iv0PTbxX_JBjmKKb0oSNb3u423SI9USVQNE0gzDn8mzmy9iifAAWjH8CHpPpixq2hAA09xkbuT8DhuRFcDbbe2ljzCN4b7xSD5M7930M1e8gSx4xPsyyhZYFvRa66whgFVqOlzcIcI4tXnJdrvXe5beh67fgKEVadQ7o7JQh8HYKb1HZO0v_JHkW_rQiNi0Xg6WWQk7arGq95pq8EqLDF82Pi6lYuVnCINz4M_ShJHPQHfRT4yWvcvz-SJaERNAx2uAAx0y_w6ExZbDoe2TSoBedjjyy3Djh5Jjjbmhr2Oj8_movFF8TLxA1Gc2-VUAjSh4MtOxCbMtB25TC5S3f-D5Ro5CbfCH3JEYb-WhjDCufm3UW\",cRq: {ru: \\'aHR0cHM6Ly93d3cuYXJ0c3RhdGlvbi5jb20vcHJvamVjdHMuanNvbi9hcnR3b3JrL0R2NWs1Rw==\\',ra: \\'cHl0aG9uLXJlcXVlc3RzLzIuMzEuMA==\\',rm: \\'R0VU\\',d: \\'xkmKuk6vNj/BYE/9RUqUwQqpIiRP1sakJHi+wCsebkU0GU0kBxpaMxVtsqvix+BVFdD9qtPxSXMP1NbGdTUwO/Fyg1C+SrZskmSRJMrwCE98MLY7zmU9ik3CvGN7Dkw4l3W38+6jpEqWjzQ34aS17yLpbfgpgH6XTfmu2T4cEHkLEus/5URm1eDzi2CrPULJCt1/fmzsQCYK2pfHHy4NfCGoGzMNPlz6u+yRzgPW+5Cha7n7984WWUJ+r8VIvdKA2qO/AKhyBonJzqjO17QU0nPyhWI9TaTjRTKuloM0m/9wrJrp81AZi+RMLXnu2imRbXttoFPTHC7rnsBKi9JUqZUGYE2gEXdxcfzOKqVMRixMj9Pn1RBqivk2e5vR25IgrJnn+xiHWuGhuWzmj8bDd1A0JSfbYLQknfaa037DXULu4I5iGLEZLjujPIkqM+qBdeKtvQBxIoDfpi5aYOYWpGPbZOk5IZ4F3r2pvdtYzECr0gLL9al1UyZ8QuTdnZ9bSK20lRYczkrcnhmC3F/SvX3HEh7k6aip6PuWFoLW4/7KmshAeughSJ+M/8EFG0epnD2Qv0kBhohqZBB3Q9bRTw==\\',t: \\'MTcwNzY3MTI3Ni40OTQwMDA=\\',cT: Math.floor(Date.now() / 1000),m: \\'WnrxegDXQ9RCRbARvkNjqmW/z3KxceV4Z4/rmOJEkzA=\\',i1: \\'GAiu6aDN38bdaoUE4Ea6MA==\\',i2: \\'1KfKC87vwh75ZHQ+h5oHGA==\\',zh: \\'rPXm+D0NG2NvinfbzRafXJkI3L6k6lBTdLP0RfMnp0o=\\',uh: \\'YE9XOpG5TeHmhA1zfs5mxC8CrRZzq2a/+r+OU7dliYQ=\\',hh: \\'hZ5U3CZ1X77DSPy5TIY/FOc/Q3qpO5VIwuPmi4trrn4=\\',}};var cpo = document.createElement(\\'script\\');cpo.src = \\'/cdn-cgi/challenge-platform/h/b/orchestrate/chl_page/v1?ray=853e30e60a6176a9\\';window._cf_chl_opt.cOgUHash = location.hash === \\'\\' && location.href.indexOf(\\'#\\') !== -1 ? \\'#\\' : location.hash;window._cf_chl_opt.cOgUQuery = location.search === \\'\\' && location.href.slice(0, location.href.length - window._cf_chl_opt.cOgUHash.length).indexOf(\\'?\\') !== -1 ? \\'?\\' : location.search;if (window.history && window.history.replaceState) {var ogU = location.pathname + window._cf_chl_opt.cOgUQuery + window._cf_chl_opt.cOgUHash;history.replaceState(null, null, \"\\\\/projects.json\\\\/artwork\\\\/Dv5k5G?__cf_chl_rt_tk=bNELlB2YLN.t7GwN8tqYm59Xhv0XjXk3HmU5mo5FQfM-1707671276-0-3301\" + window._cf_chl_opt.cOgUHash);cpo.onload = function() {history.replaceState(null, null, ogU);}}document.getElementsByTagName(\\'head\\')[0].appendChild(cpo);}());</script></body></html>'"
      ]
     },
     "execution_count": 48,
     "metadata": {},
     "output_type": "execute_result"
    }
   ],
   "source": [
    "a = requests.get('https://www.artstation.com/projects.json/artwork/Dv5k5G')\n",
    "\n",
    "a.content"
   ]
  },
  {
   "cell_type": "code",
   "execution_count": null,
   "metadata": {},
   "outputs": [],
   "source": []
  }
 ],
 "metadata": {
  "kernelspec": {
   "display_name": ".venv",
   "language": "python",
   "name": "python3"
  },
  "language_info": {
   "codemirror_mode": {
    "name": "ipython",
    "version": 3
   },
   "file_extension": ".py",
   "mimetype": "text/x-python",
   "name": "python",
   "nbconvert_exporter": "python",
   "pygments_lexer": "ipython3",
   "version": "3.11.8"
  }
 },
 "nbformat": 4,
 "nbformat_minor": 2
}
